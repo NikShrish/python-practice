{
  "nbformat": 4,
  "nbformat_minor": 0,
  "metadata": {
    "colab": {
      "name": "Assignment No. 1.ipynb",
      "provenance": []
    },
    "kernelspec": {
      "name": "python3",
      "display_name": "Python 3"
    }
  },
  "cells": [
    {
      "cell_type": "markdown",
      "metadata": {
        "id": "Ehrof_fseYzs",
        "colab_type": "text"
      },
      "source": [
        "## Compare time required for builtin functions and sequential program for performing any task"
      ]
    },
    {
      "cell_type": "code",
      "metadata": {
        "id": "EeVkoebeeQnF",
        "colab_type": "code",
        "colab": {
          "base_uri": "https://localhost:8080/",
          "height": 85
        },
        "outputId": "c87c03e0-6926-4c32-eab7-4b54feb57e1f"
      },
      "source": [
        "import time\n",
        "tic=time.time()\n",
        "x=6\n",
        "fact=1\n",
        "for i in range(1,x):\n",
        "  fact=fact*i\n",
        "print(\"factorial of \", x, \"is\", fact)\n",
        "toc=time.time()\n",
        "print(\"elapsed time in seconds\",toc-tic)\n",
        "\n",
        "#use builtin factorial function of math library\n",
        "import math\n",
        "tic=time.time()\n",
        "fact=math.factorial(5)\n",
        "print(fact)\n",
        "toc=time.time()\n",
        "print(\"elapsed time in seconds\", toc-tic)"
      ],
      "execution_count": 2,
      "outputs": [
        {
          "output_type": "stream",
          "text": [
            "factorial of  6 is 120\n",
            "elapsed time in seconds 0.0003600120544433594\n",
            "120\n",
            "elapsed time in seconds 8.177757263183594e-05\n"
          ],
          "name": "stdout"
        }
      ]
    },
    {
      "cell_type": "code",
      "metadata": {
        "id": "iCoTmF8He-7W",
        "colab_type": "code",
        "colab": {}
      },
      "source": [
        ""
      ],
      "execution_count": null,
      "outputs": []
    }
  ]
}